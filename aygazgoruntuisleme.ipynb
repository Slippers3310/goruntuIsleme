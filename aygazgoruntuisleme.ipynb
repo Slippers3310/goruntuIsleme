{
 "cells": [
  {
   "cell_type": "markdown",
   "id": "23319540",
   "metadata": {
    "papermill": {
     "duration": 0.00518,
     "end_time": "2024-12-16T21:11:13.630120",
     "exception": false,
     "start_time": "2024-12-16T21:11:13.624940",
     "status": "completed"
    },
    "tags": []
   },
   "source": [
    "# 1. Gerekli Kütüphanelerin Yüklenmesi\n"
   ]
  },
  {
   "cell_type": "code",
   "execution_count": 1,
   "id": "2010ffa1",
   "metadata": {
    "_cell_guid": "b1076dfc-b9ad-4769-8c92-a6c4dae69d19",
    "_uuid": "8f2839f25d086af736a60e9eeb907d3b93b6e0e5",
    "execution": {
     "iopub.execute_input": "2024-12-16T21:11:13.641440Z",
     "iopub.status.busy": "2024-12-16T21:11:13.640931Z",
     "iopub.status.idle": "2024-12-16T21:11:31.607519Z",
     "shell.execute_reply": "2024-12-16T21:11:31.606474Z"
    },
    "papermill": {
     "duration": 17.97521,
     "end_time": "2024-12-16T21:11:31.610076",
     "exception": false,
     "start_time": "2024-12-16T21:11:13.634866",
     "status": "completed"
    },
    "tags": []
   },
   "outputs": [],
   "source": [
    "# Gerekli kütüphaneleri yükleme\n",
    "import os\n",
    "import numpy as np\n",
    "import cv2\n",
    "from sklearn.model_selection import train_test_split\n",
    "from tensorflow.keras.preprocessing.image import ImageDataGenerator\n",
    "from tensorflow.keras.models import Sequential\n",
    "from tensorflow.keras.layers import Conv2D, MaxPooling2D, Flatten, Dense, Dropout\n",
    "from tensorflow.keras.optimizers import Adam\n",
    "import matplotlib.pyplot as plt\n"
   ]
  },
  {
   "cell_type": "markdown",
   "id": "5ee6f140",
   "metadata": {
    "papermill": {
     "duration": 0.004672,
     "end_time": "2024-12-16T21:11:31.619622",
     "exception": false,
     "start_time": "2024-12-16T21:11:31.614950",
     "status": "completed"
    },
    "tags": []
   },
   "source": [
    "# 2. Veri Setinin Hazırlanması\n",
    "## 2.1 Sınıfların Seçimi ve Dengelenmesi"
   ]
  },
  {
   "cell_type": "code",
   "execution_count": 2,
   "id": "d88e887e",
   "metadata": {
    "execution": {
     "iopub.execute_input": "2024-12-16T21:11:31.630653Z",
     "iopub.status.busy": "2024-12-16T21:11:31.629995Z",
     "iopub.status.idle": "2024-12-16T21:14:21.723297Z",
     "shell.execute_reply": "2024-12-16T21:14:21.721990Z"
    },
    "papermill": {
     "duration": 170.107264,
     "end_time": "2024-12-16T21:14:21.731385",
     "exception": false,
     "start_time": "2024-12-16T21:11:31.624121",
     "status": "completed"
    },
    "tags": []
   },
   "outputs": [
    {
     "name": "stdout",
     "output_type": "stream",
     "text": [
      "Veri seti hazırlandı ve dengelendi.\n"
     ]
    }
   ],
   "source": [
    "# Veri seti klasörlerinin yolları\n",
    "source_dir = \"/kaggle/input/animals-with-attributes-2/Animals_with_Attributes2/JPEGImages\"  \n",
    "target_dir = \"/kaggle/working/FilteredImages\"  # Filtrelenmiş veri seti kaydedileceği yol\n",
    "\n",
    "# Kullanılacak sınıflar\n",
    "selected_classes = [\"collie\", \"dolphin\", \"elephant\", \"fox\", \"moose\", \"rabbit\", \"sheep\", \"squirrel\", \"giant+panda\", \"polar+bear\"]\n",
    "images_per_class = 650\n",
    "\n",
    "# Veriyi filtreleme ve yeni klasöre kopyalama\n",
    "os.makedirs(target_dir, exist_ok=True)\n",
    "for class_name in selected_classes:\n",
    "    class_path = os.path.join(source_dir, class_name)\n",
    "    target_path = os.path.join(target_dir, class_name)\n",
    "    os.makedirs(target_path, exist_ok=True)\n",
    "    for i, file_name in enumerate(os.listdir(class_path)):\n",
    "        if i >= images_per_class:\n",
    "            break\n",
    "        full_file_name = os.path.join(class_path, file_name)\n",
    "        if os.path.isfile(full_file_name):\n",
    "            cv2.imwrite(os.path.join(target_path, file_name), cv2.imread(full_file_name))\n",
    "print(\"Veri seti hazırlandı ve dengelendi.\")\n"
   ]
  },
  {
   "cell_type": "markdown",
   "id": "4c3274d1",
   "metadata": {
    "papermill": {
     "duration": 0.004155,
     "end_time": "2024-12-16T21:14:21.739983",
     "exception": false,
     "start_time": "2024-12-16T21:14:21.735828",
     "status": "completed"
    },
    "tags": []
   },
   "source": [
    "## 2.2 Görüntülerin Boyutlandırılması ve Normalizasyonu"
   ]
  },
  {
   "cell_type": "code",
   "execution_count": 3,
   "id": "f8db8624",
   "metadata": {
    "execution": {
     "iopub.execute_input": "2024-12-16T21:14:21.750370Z",
     "iopub.status.busy": "2024-12-16T21:14:21.750012Z",
     "iopub.status.idle": "2024-12-16T21:15:17.596038Z",
     "shell.execute_reply": "2024-12-16T21:15:17.593965Z"
    },
    "papermill": {
     "duration": 55.868308,
     "end_time": "2024-12-16T21:15:17.612679",
     "exception": false,
     "start_time": "2024-12-16T21:14:21.744371",
     "status": "completed"
    },
    "tags": []
   },
   "outputs": [
    {
     "name": "stdout",
     "output_type": "stream",
     "text": [
      "Veri kümesi boyutu: (6500, 128, 128, 3)\n"
     ]
    }
   ],
   "source": [
    "# Görüntülerin işlenmesi (128x128 boyutlandırma ve normalizasyon)\n",
    "def load_and_process_images(data_dir, image_size=(128, 128)):\n",
    "    images = []\n",
    "    labels = []\n",
    "    for class_name in os.listdir(data_dir):\n",
    "        class_path = os.path.join(data_dir, class_name)\n",
    "        if os.path.isdir(class_path):\n",
    "            for file_name in os.listdir(class_path):\n",
    "                file_path = os.path.join(class_path, file_name)\n",
    "                img = cv2.imread(file_path)\n",
    "                if img is not None:\n",
    "                    img_resized = cv2.resize(img, image_size)\n",
    "                    img_normalized = img_resized / 255.0\n",
    "                    images.append(img_normalized)\n",
    "                    labels.append(class_name)\n",
    "    return np.array(images), np.array(labels)\n",
    "\n",
    "data_dir = target_dir\n",
    "X, y = load_and_process_images(data_dir)\n",
    "print(f\"Veri kümesi boyutu: {X.shape}\")\n"
   ]
  },
  {
   "cell_type": "markdown",
   "id": "52063971",
   "metadata": {
    "papermill": {
     "duration": 0.004742,
     "end_time": "2024-12-16T21:15:17.622971",
     "exception": false,
     "start_time": "2024-12-16T21:15:17.618229",
     "status": "completed"
    },
    "tags": []
   },
   "source": [
    "## 2.3 Verilerin Eğitim ve Test Seti Olarak Ayrılması"
   ]
  },
  {
   "cell_type": "code",
   "execution_count": 4,
   "id": "b0536709",
   "metadata": {
    "execution": {
     "iopub.execute_input": "2024-12-16T21:15:17.636090Z",
     "iopub.status.busy": "2024-12-16T21:15:17.634656Z",
     "iopub.status.idle": "2024-12-16T21:15:19.091922Z",
     "shell.execute_reply": "2024-12-16T21:15:19.090780Z"
    },
    "papermill": {
     "duration": 1.466384,
     "end_time": "2024-12-16T21:15:19.094301",
     "exception": false,
     "start_time": "2024-12-16T21:15:17.627917",
     "status": "completed"
    },
    "tags": []
   },
   "outputs": [
    {
     "name": "stdout",
     "output_type": "stream",
     "text": [
      "Eğitim veri boyutu: (4550, 128, 128, 3), Test veri boyutu: (1950, 128, 128, 3)\n"
     ]
    }
   ],
   "source": [
    "# Etiketlerin dönüştürülmesi\n",
    "from sklearn.preprocessing import LabelEncoder\n",
    "from tensorflow.keras.utils import to_categorical\n",
    "\n",
    "encoder = LabelEncoder()\n",
    "y_encoded = encoder.fit_transform(y)\n",
    "y_categorical = to_categorical(y_encoded)\n",
    "\n",
    "# Veriyi bölme (%70 eğitim, %30 test)\n",
    "X_train, X_test, y_train, y_test = train_test_split(X, y_categorical, test_size=0.3, random_state=42)\n",
    "print(f\"Eğitim veri boyutu: {X_train.shape}, Test veri boyutu: {X_test.shape}\")\n"
   ]
  },
  {
   "cell_type": "markdown",
   "id": "7f171321",
   "metadata": {
    "papermill": {
     "duration": 0.005089,
     "end_time": "2024-12-16T21:15:19.104231",
     "exception": false,
     "start_time": "2024-12-16T21:15:19.099142",
     "status": "completed"
    },
    "tags": []
   },
   "source": [
    "# 3. Veri Artırımı (Augmentation)\n"
   ]
  },
  {
   "cell_type": "code",
   "execution_count": 5,
   "id": "49fea4f1",
   "metadata": {
    "execution": {
     "iopub.execute_input": "2024-12-16T21:15:19.116127Z",
     "iopub.status.busy": "2024-12-16T21:15:19.115702Z",
     "iopub.status.idle": "2024-12-16T21:15:20.051858Z",
     "shell.execute_reply": "2024-12-16T21:15:20.050312Z"
    },
    "papermill": {
     "duration": 0.946205,
     "end_time": "2024-12-16T21:15:20.055406",
     "exception": false,
     "start_time": "2024-12-16T21:15:19.109201",
     "status": "completed"
    },
    "tags": []
   },
   "outputs": [],
   "source": [
    "# Veri artırma işlemi\n",
    "datagen = ImageDataGenerator(\n",
    "    rotation_range=20,\n",
    "    width_shift_range=0.2,\n",
    "    height_shift_range=0.2,\n",
    "    shear_range=0.2,\n",
    "    zoom_range=0.2,\n",
    "    horizontal_flip=True,\n",
    "    fill_mode='nearest'\n",
    ")\n",
    "datagen.fit(X_train)\n"
   ]
  },
  {
   "cell_type": "markdown",
   "id": "4eceaffd",
   "metadata": {
    "papermill": {
     "duration": 0.00461,
     "end_time": "2024-12-16T21:15:20.065257",
     "exception": false,
     "start_time": "2024-12-16T21:15:20.060647",
     "status": "completed"
    },
    "tags": []
   },
   "source": [
    "# 4. CNN Modelinin Oluşturulması"
   ]
  },
  {
   "cell_type": "code",
   "execution_count": 6,
   "id": "fbc66af1",
   "metadata": {
    "execution": {
     "iopub.execute_input": "2024-12-16T21:15:20.077505Z",
     "iopub.status.busy": "2024-12-16T21:15:20.077089Z",
     "iopub.status.idle": "2024-12-16T21:15:20.346418Z",
     "shell.execute_reply": "2024-12-16T21:15:20.344957Z"
    },
    "papermill": {
     "duration": 0.27889,
     "end_time": "2024-12-16T21:15:20.348995",
     "exception": false,
     "start_time": "2024-12-16T21:15:20.070105",
     "status": "completed"
    },
    "tags": []
   },
   "outputs": [],
   "source": [
    "# CNN Modeli\n",
    "from tensorflow.keras.layers import Input\n",
    "\n",
    "model = Sequential([\n",
    "    Input(shape=(128, 128, 3)),  # Burada Input kullanılıyor\n",
    "    Conv2D(32, (3, 3), activation='relu'),\n",
    "    MaxPooling2D(pool_size=(2, 2)),\n",
    "    Flatten(),\n",
    "    Dense(128, activation='relu'),\n",
    "    Dense(10, activation='softmax')\n",
    "])\n"
   ]
  },
  {
   "cell_type": "markdown",
   "id": "79a196f3",
   "metadata": {
    "papermill": {
     "duration": 0.00494,
     "end_time": "2024-12-16T21:15:20.358715",
     "exception": false,
     "start_time": "2024-12-16T21:15:20.353775",
     "status": "completed"
    },
    "tags": []
   },
   "source": [
    "# 5. Modelin Eğitilmesi"
   ]
  },
  {
   "cell_type": "code",
   "execution_count": 7,
   "id": "6dc3a509",
   "metadata": {
    "execution": {
     "iopub.execute_input": "2024-12-16T21:15:20.369579Z",
     "iopub.status.busy": "2024-12-16T21:15:20.369164Z",
     "iopub.status.idle": "2024-12-16T21:27:28.362345Z",
     "shell.execute_reply": "2024-12-16T21:27:28.360902Z"
    },
    "papermill": {
     "duration": 728.001806,
     "end_time": "2024-12-16T21:27:28.365039",
     "exception": false,
     "start_time": "2024-12-16T21:15:20.363233",
     "status": "completed"
    },
    "tags": []
   },
   "outputs": [
    {
     "name": "stdout",
     "output_type": "stream",
     "text": [
      "Epoch 1/20\n"
     ]
    },
    {
     "name": "stderr",
     "output_type": "stream",
     "text": [
      "/opt/conda/lib/python3.10/site-packages/keras/src/trainers/data_adapters/py_dataset_adapter.py:121: UserWarning: Your `PyDataset` class should call `super().__init__(**kwargs)` in its constructor. `**kwargs` can include `workers`, `use_multiprocessing`, `max_queue_size`. Do not pass these arguments to `fit()`, as they will be ignored.\n",
      "  self._warn_if_super_not_called()\n"
     ]
    },
    {
     "name": "stdout",
     "output_type": "stream",
     "text": [
      "\u001b[1m142/142\u001b[0m \u001b[32m━━━━━━━━━━━━━━━━━━━━\u001b[0m\u001b[37m\u001b[0m \u001b[1m70s\u001b[0m 475ms/step - accuracy: 0.2074 - loss: 4.8779 - val_accuracy: 0.3781 - val_loss: 1.7264\n",
      "Epoch 2/20\n",
      "\u001b[1m142/142\u001b[0m \u001b[32m━━━━━━━━━━━━━━━━━━━━\u001b[0m\u001b[37m\u001b[0m \u001b[1m0s\u001b[0m 778us/step - accuracy: 0.4375 - loss: 1.5286 - val_accuracy: 0.3000 - val_loss: 1.8325\n",
      "Epoch 3/20\n"
     ]
    },
    {
     "name": "stderr",
     "output_type": "stream",
     "text": [
      "/opt/conda/lib/python3.10/contextlib.py:153: UserWarning: Your input ran out of data; interrupting training. Make sure that your dataset or generator can generate at least `steps_per_epoch * epochs` batches. You may need to use the `.repeat()` function when building your dataset.\n",
      "  self.gen.throw(typ, value, traceback)\n"
     ]
    },
    {
     "name": "stdout",
     "output_type": "stream",
     "text": [
      "\u001b[1m142/142\u001b[0m \u001b[32m━━━━━━━━━━━━━━━━━━━━\u001b[0m\u001b[37m\u001b[0m \u001b[1m70s\u001b[0m 487ms/step - accuracy: 0.4323 - loss: 1.6808 - val_accuracy: 0.4609 - val_loss: 1.5937\n",
      "Epoch 4/20\n",
      "\u001b[1m142/142\u001b[0m \u001b[32m━━━━━━━━━━━━━━━━━━━━\u001b[0m\u001b[37m\u001b[0m \u001b[1m0s\u001b[0m 612us/step - accuracy: 0.4688 - loss: 1.4582 - val_accuracy: 0.5000 - val_loss: 1.5037\n",
      "Epoch 5/20\n",
      "\u001b[1m142/142\u001b[0m \u001b[32m━━━━━━━━━━━━━━━━━━━━\u001b[0m\u001b[37m\u001b[0m \u001b[1m69s\u001b[0m 480ms/step - accuracy: 0.4772 - loss: 1.5362 - val_accuracy: 0.4625 - val_loss: 1.5686\n",
      "Epoch 6/20\n",
      "\u001b[1m142/142\u001b[0m \u001b[32m━━━━━━━━━━━━━━━━━━━━\u001b[0m\u001b[37m\u001b[0m \u001b[1m0s\u001b[0m 608us/step - accuracy: 0.4688 - loss: 1.6032 - val_accuracy: 0.4667 - val_loss: 1.5562\n",
      "Epoch 7/20\n",
      "\u001b[1m142/142\u001b[0m \u001b[32m━━━━━━━━━━━━━━━━━━━━\u001b[0m\u001b[37m\u001b[0m \u001b[1m69s\u001b[0m 476ms/step - accuracy: 0.4927 - loss: 1.4787 - val_accuracy: 0.4938 - val_loss: 1.4662\n",
      "Epoch 8/20\n",
      "\u001b[1m142/142\u001b[0m \u001b[32m━━━━━━━━━━━━━━━━━━━━\u001b[0m\u001b[37m\u001b[0m \u001b[1m0s\u001b[0m 489us/step - accuracy: 0.5938 - loss: 1.3636 - val_accuracy: 0.3667 - val_loss: 1.6959\n",
      "Epoch 9/20\n",
      "\u001b[1m142/142\u001b[0m \u001b[32m━━━━━━━━━━━━━━━━━━━━\u001b[0m\u001b[37m\u001b[0m \u001b[1m81s\u001b[0m 476ms/step - accuracy: 0.5297 - loss: 1.3786 - val_accuracy: 0.5000 - val_loss: 1.4489\n",
      "Epoch 10/20\n",
      "\u001b[1m142/142\u001b[0m \u001b[32m━━━━━━━━━━━━━━━━━━━━\u001b[0m\u001b[37m\u001b[0m \u001b[1m0s\u001b[0m 635us/step - accuracy: 0.5625 - loss: 1.5082 - val_accuracy: 0.6000 - val_loss: 1.3850\n",
      "Epoch 11/20\n",
      "\u001b[1m142/142\u001b[0m \u001b[32m━━━━━━━━━━━━━━━━━━━━\u001b[0m\u001b[37m\u001b[0m \u001b[1m69s\u001b[0m 479ms/step - accuracy: 0.5369 - loss: 1.3654 - val_accuracy: 0.5250 - val_loss: 1.3657\n",
      "Epoch 12/20\n",
      "\u001b[1m142/142\u001b[0m \u001b[32m━━━━━━━━━━━━━━━━━━━━\u001b[0m\u001b[37m\u001b[0m \u001b[1m0s\u001b[0m 781us/step - accuracy: 0.5312 - loss: 1.2361 - val_accuracy: 0.6000 - val_loss: 1.3979\n",
      "Epoch 13/20\n",
      "\u001b[1m142/142\u001b[0m \u001b[32m━━━━━━━━━━━━━━━━━━━━\u001b[0m\u001b[37m\u001b[0m \u001b[1m72s\u001b[0m 501ms/step - accuracy: 0.5557 - loss: 1.2927 - val_accuracy: 0.5547 - val_loss: 1.3264\n",
      "Epoch 14/20\n",
      "\u001b[1m142/142\u001b[0m \u001b[32m━━━━━━━━━━━━━━━━━━━━\u001b[0m\u001b[37m\u001b[0m \u001b[1m0s\u001b[0m 629us/step - accuracy: 0.5000 - loss: 1.3897 - val_accuracy: 0.6667 - val_loss: 1.1759\n",
      "Epoch 15/20\n",
      "\u001b[1m142/142\u001b[0m \u001b[32m━━━━━━━━━━━━━━━━━━━━\u001b[0m\u001b[37m\u001b[0m \u001b[1m75s\u001b[0m 522ms/step - accuracy: 0.5745 - loss: 1.2703 - val_accuracy: 0.4891 - val_loss: 1.4561\n",
      "Epoch 16/20\n",
      "\u001b[1m142/142\u001b[0m \u001b[32m━━━━━━━━━━━━━━━━━━━━\u001b[0m\u001b[37m\u001b[0m \u001b[1m1s\u001b[0m 3ms/step - accuracy: 0.5000 - loss: 1.4532 - val_accuracy: 0.7000 - val_loss: 1.0812\n",
      "Epoch 17/20\n",
      "\u001b[1m142/142\u001b[0m \u001b[32m━━━━━━━━━━━━━━━━━━━━\u001b[0m\u001b[37m\u001b[0m \u001b[1m77s\u001b[0m 493ms/step - accuracy: 0.5722 - loss: 1.2460 - val_accuracy: 0.5495 - val_loss: 1.3409\n",
      "Epoch 18/20\n",
      "\u001b[1m142/142\u001b[0m \u001b[32m━━━━━━━━━━━━━━━━━━━━\u001b[0m\u001b[37m\u001b[0m \u001b[1m0s\u001b[0m 623us/step - accuracy: 0.4688 - loss: 1.5368 - val_accuracy: 0.4667 - val_loss: 1.3792\n",
      "Epoch 19/20\n",
      "\u001b[1m142/142\u001b[0m \u001b[32m━━━━━━━━━━━━━━━━━━━━\u001b[0m\u001b[37m\u001b[0m \u001b[1m69s\u001b[0m 483ms/step - accuracy: 0.5931 - loss: 1.1676 - val_accuracy: 0.5625 - val_loss: 1.3250\n",
      "Epoch 20/20\n",
      "\u001b[1m142/142\u001b[0m \u001b[32m━━━━━━━━━━━━━━━━━━━━\u001b[0m\u001b[37m\u001b[0m \u001b[1m1s\u001b[0m 641us/step - accuracy: 0.7188 - loss: 1.1662 - val_accuracy: 0.7000 - val_loss: 1.3139\n"
     ]
    }
   ],
   "source": [
    "# Modeli derleme\n",
    "model.compile(\n",
    "    optimizer='adam',               # Optimizasyon algoritması\n",
    "    loss='categorical_crossentropy', # Kayıp fonksiyonu\n",
    "    metrics=['accuracy']            # Değerlendirme metriği\n",
    ")\n",
    "\n",
    "# Veri artırma (Data Augmentation)\n",
    "datagen = ImageDataGenerator(\n",
    "    rotation_range=20,\n",
    "    width_shift_range=0.1,\n",
    "    height_shift_range=0.1,\n",
    "    horizontal_flip=True\n",
    ")\n",
    "\n",
    "# Eğitim ve doğrulama jeneratörleri\n",
    "train_generator = datagen.flow(X_train, y_train, batch_size=32)\n",
    "validation_generator = datagen.flow(X_test, y_test, batch_size=32)\n",
    "\n",
    "# steps_per_epoch ve validation_steps hesaplama\n",
    "steps_per_epoch = len(X_train) // 32\n",
    "validation_steps = len(X_test) // 32\n",
    "\n",
    "# Modeli eğitme\n",
    "history = model.fit(\n",
    "    train_generator,\n",
    "    validation_data=validation_generator,\n",
    "    epochs=20,\n",
    "    steps_per_epoch=steps_per_epoch,\n",
    "    validation_steps=validation_steps\n",
    ")\n"
   ]
  },
  {
   "cell_type": "markdown",
   "id": "696fa020",
   "metadata": {
    "papermill": {
     "duration": 0.085505,
     "end_time": "2024-12-16T21:27:28.535816",
     "exception": false,
     "start_time": "2024-12-16T21:27:28.450311",
     "status": "completed"
    },
    "tags": []
   },
   "source": [
    "# 6. Modelin Test Edilmesi"
   ]
  },
  {
   "cell_type": "code",
   "execution_count": 8,
   "id": "51ba44f6",
   "metadata": {
    "execution": {
     "iopub.execute_input": "2024-12-16T21:27:28.710616Z",
     "iopub.status.busy": "2024-12-16T21:27:28.710132Z",
     "iopub.status.idle": "2024-12-16T21:27:34.818866Z",
     "shell.execute_reply": "2024-12-16T21:27:34.817525Z"
    },
    "papermill": {
     "duration": 6.199319,
     "end_time": "2024-12-16T21:27:34.821209",
     "exception": false,
     "start_time": "2024-12-16T21:27:28.621890",
     "status": "completed"
    },
    "tags": []
   },
   "outputs": [
    {
     "name": "stdout",
     "output_type": "stream",
     "text": [
      "\u001b[1m61/61\u001b[0m \u001b[32m━━━━━━━━━━━━━━━━━━━━\u001b[0m\u001b[37m\u001b[0m \u001b[1m5s\u001b[0m 78ms/step - accuracy: 0.5700 - loss: 1.2738\n",
      "Test Doğruluğu: 57.79%\n"
     ]
    }
   ],
   "source": [
    "# Test doğruluğunu değerlendirme\n",
    "test_loss, test_accuracy = model.evaluate(X_test, y_test)\n",
    "print(f\"Test Doğruluğu: {test_accuracy * 100:.2f}%\")\n"
   ]
  },
  {
   "cell_type": "markdown",
   "id": "15a451a5",
   "metadata": {
    "papermill": {
     "duration": 0.090807,
     "end_time": "2024-12-16T21:27:35.002589",
     "exception": false,
     "start_time": "2024-12-16T21:27:34.911782",
     "status": "completed"
    },
    "tags": []
   },
   "source": [
    "# 7. Manipüle Edilmiş Test Seti"
   ]
  },
  {
   "cell_type": "code",
   "execution_count": 9,
   "id": "9df9afcf",
   "metadata": {
    "execution": {
     "iopub.execute_input": "2024-12-16T21:27:35.190191Z",
     "iopub.status.busy": "2024-12-16T21:27:35.189795Z",
     "iopub.status.idle": "2024-12-16T21:27:40.602760Z",
     "shell.execute_reply": "2024-12-16T21:27:40.601466Z"
    },
    "papermill": {
     "duration": 5.512304,
     "end_time": "2024-12-16T21:27:40.605327",
     "exception": false,
     "start_time": "2024-12-16T21:27:35.093023",
     "status": "completed"
    },
    "tags": []
   },
   "outputs": [
    {
     "name": "stdout",
     "output_type": "stream",
     "text": [
      "\u001b[1m61/61\u001b[0m \u001b[32m━━━━━━━━━━━━━━━━━━━━\u001b[0m\u001b[37m\u001b[0m \u001b[1m5s\u001b[0m 80ms/step - accuracy: 0.0969 - loss: 223.8763\n",
      "Manipüle Edilmiş Test Doğruluğu: 9.69%\n"
     ]
    }
   ],
   "source": [
    "# Görüntü manipülasyonu (örneğin parlaklık artırma)\n",
    "def manipulate_images(images):\n",
    "    manipulated_images = []\n",
    "    for img in images:\n",
    "        manipulated = cv2.convertScaleAbs(img, alpha=1.5, beta=30)  # Parlaklık artırma\n",
    "        manipulated_images.append(manipulated)\n",
    "    return np.array(manipulated_images)\n",
    "\n",
    "X_test_manipulated = manipulate_images(X_test)\n",
    "manipulated_loss, manipulated_accuracy = model.evaluate(X_test_manipulated, y_test)\n",
    "print(f\"Manipüle Edilmiş Test Doğruluğu: {manipulated_accuracy * 100:.2f}%\")\n"
   ]
  },
  {
   "cell_type": "markdown",
   "id": "9e35a8ac",
   "metadata": {
    "papermill": {
     "duration": 0.097736,
     "end_time": "2024-12-16T21:27:40.796638",
     "exception": false,
     "start_time": "2024-12-16T21:27:40.698902",
     "status": "completed"
    },
    "tags": []
   },
   "source": [
    "# 8. Renk Sabitliği (Gray World Algoritması)\n"
   ]
  },
  {
   "cell_type": "code",
   "execution_count": 10,
   "id": "2c97f2e4",
   "metadata": {
    "execution": {
     "iopub.execute_input": "2024-12-16T21:27:40.989280Z",
     "iopub.status.busy": "2024-12-16T21:27:40.988822Z",
     "iopub.status.idle": "2024-12-16T21:27:47.427866Z",
     "shell.execute_reply": "2024-12-16T21:27:47.426602Z"
    },
    "papermill": {
     "duration": 6.538659,
     "end_time": "2024-12-16T21:27:47.430337",
     "exception": false,
     "start_time": "2024-12-16T21:27:40.891678",
     "status": "completed"
    },
    "tags": []
   },
   "outputs": [
    {
     "name": "stdout",
     "output_type": "stream",
     "text": [
      "\u001b[1m61/61\u001b[0m \u001b[32m━━━━━━━━━━━━━━━━━━━━\u001b[0m\u001b[37m\u001b[0m \u001b[1m5s\u001b[0m 87ms/step - accuracy: 0.0969 - loss: 225.1878\n",
      "Renk Sabitliği Uygulanmış Test Doğruluğu: 9.69%\n"
     ]
    }
   ],
   "source": [
    "def apply_gray_world(image):\n",
    "    avg_b, avg_g, avg_r = cv2.mean(image)[:3]\n",
    "    gray_value = (avg_b + avg_g + avg_r) / 3\n",
    "    scaling_factors = np.array([gray_value / avg_b, gray_value / avg_g, gray_value / avg_r])\n",
    "    corrected_image = image * scaling_factors  # Her kanal için ayrı ölçekleme\n",
    "    corrected_image = np.clip(corrected_image, 0, 255).astype(np.uint8)\n",
    "    return corrected_image\n",
    "# Manipüle edilmiş test setine renk sabitliği uygulama\n",
    "X_test_corrected = np.array([apply_gray_world(img) for img in X_test_manipulated])\n",
    "\n",
    "# Modeli renk sabitliği uygulanmış test setiyle değerlendirme\n",
    "corrected_loss, corrected_accuracy = model.evaluate(X_test_corrected, y_test)\n",
    "print(f\"Renk Sabitliği Uygulanmış Test Doğruluğu: {corrected_accuracy * 100:.2f}%\")\n"
   ]
  },
  {
   "cell_type": "markdown",
   "id": "a4492cf0",
   "metadata": {
    "papermill": {
     "duration": 0.09789,
     "end_time": "2024-12-16T21:27:47.626396",
     "exception": false,
     "start_time": "2024-12-16T21:27:47.528506",
     "status": "completed"
    },
    "tags": []
   },
   "source": [
    "# 9. Sonuçların Karşılaştırılması"
   ]
  },
  {
   "cell_type": "code",
   "execution_count": 11,
   "id": "aa7e4f72",
   "metadata": {
    "execution": {
     "iopub.execute_input": "2024-12-16T21:27:47.824444Z",
     "iopub.status.busy": "2024-12-16T21:27:47.824057Z",
     "iopub.status.idle": "2024-12-16T21:27:47.831033Z",
     "shell.execute_reply": "2024-12-16T21:27:47.829659Z"
    },
    "papermill": {
     "duration": 0.107587,
     "end_time": "2024-12-16T21:27:47.833201",
     "exception": false,
     "start_time": "2024-12-16T21:27:47.725614",
     "status": "completed"
    },
    "tags": []
   },
   "outputs": [
    {
     "name": "stdout",
     "output_type": "stream",
     "text": [
      "Sonuçlar:\n",
      "Orijinal Test Seti Doğruluğu: 57.79%\n",
      "Manipüle Edilmiş Test Seti Doğruluğu: 9.69%\n",
      "Renk Sabitliği Uygulanmış Test Seti Doğruluğu: 9.69%\n"
     ]
    }
   ],
   "source": [
    "# Test sonuçlarının karşılaştırılması\n",
    "print(\"Sonuçlar:\")\n",
    "print(f\"Orijinal Test Seti Doğruluğu: {test_accuracy * 100:.2f}%\")\n",
    "print(f\"Manipüle Edilmiş Test Seti Doğruluğu: {manipulated_accuracy * 100:.2f}%\")\n",
    "print(f\"Renk Sabitliği Uygulanmış Test Seti Doğruluğu: {corrected_accuracy * 100:.2f}%\")\n"
   ]
  }
 ],
 "metadata": {
  "kaggle": {
   "accelerator": "none",
   "dataSources": [
    {
     "datasetId": 1408532,
     "sourceId": 2333429,
     "sourceType": "datasetVersion"
    }
   ],
   "dockerImageVersionId": 30804,
   "isGpuEnabled": false,
   "isInternetEnabled": true,
   "language": "python",
   "sourceType": "notebook"
  },
  "kernelspec": {
   "display_name": "Python 3",
   "language": "python",
   "name": "python3"
  },
  "language_info": {
   "codemirror_mode": {
    "name": "ipython",
    "version": 3
   },
   "file_extension": ".py",
   "mimetype": "text/x-python",
   "name": "python",
   "nbconvert_exporter": "python",
   "pygments_lexer": "ipython3",
   "version": "3.10.14"
  },
  "papermill": {
   "default_parameters": {},
   "duration": 999.271459,
   "end_time": "2024-12-16T21:27:50.057832",
   "environment_variables": {},
   "exception": null,
   "input_path": "__notebook__.ipynb",
   "output_path": "__notebook__.ipynb",
   "parameters": {},
   "start_time": "2024-12-16T21:11:10.786373",
   "version": "2.6.0"
  }
 },
 "nbformat": 4,
 "nbformat_minor": 5
}
